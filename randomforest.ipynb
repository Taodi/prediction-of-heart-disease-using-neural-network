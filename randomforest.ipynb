{
 "cells": [
  {
   "cell_type": "code",
   "execution_count": 8,
   "metadata": {},
   "outputs": [
    {
     "name": "stdout",
     "output_type": "stream",
     "text": [
      "predicted value is :['0']\n",
      "actual value is :['1']\n",
      "52.6315789474\n"
     ]
    },
    {
     "name": "stderr",
     "output_type": "stream",
     "text": [
      "C:\\Users\\Manish\\Anaconda3\\lib\\site-packages\\ipykernel_launcher.py:24: DataConversionWarning: A column-vector y was passed when a 1d array was expected. Please change the shape of y to (n_samples,), for example using ravel().\n"
     ]
    }
   ],
   "source": [
    "import numpy as np\n",
    "from numpy import genfromtxt\n",
    "from sklearn import linear_model\n",
    "from sklearn.model_selection import train_test_split\n",
    "from sklearn.ensemble import RandomForestClassifier\n",
    "from sklearn.metrics import accuracy_score\n",
    "from sklearn.metrics import confusion_matrix\n",
    "\n",
    "\n",
    "file = genfromtxt(\"heart.csv\", delimiter = \",\", dtype=\"str\")\n",
    "\n",
    "  \n",
    "trainingset = file[:160]\n",
    "trainingx = trainingset[:,[0,1,2,3,4,5,6,7,8,9,10,11,12]]\n",
    "trainingx = trainingx.astype(float)\n",
    "trainingy = trainingset[:,[13]]\n",
    "\n",
    "testingset = file[160:]\n",
    "testingx = testingset[:,[0,1,2,3,4,5,6,7,8,9,10,11,12]]\n",
    "testingx = testingx.astype(float)\n",
    "testingy = testingset[:,[13]]\n",
    "\n",
    "clf = RandomForestClassifier()\n",
    "clf.fit(trainingx,trainingy)\n",
    "print(\"predicted value is :\" + str(clf.predict([testingx[5]])))\n",
    "print(\"actual value is :\"  + str(testingy[5]))        \n",
    "    \n",
    "    \n",
    "print(clf.score(testingx,testingy)*100)"
   ]
  },
  {
   "cell_type": "code",
   "execution_count": null,
   "metadata": {
    "collapsed": true
   },
   "outputs": [],
   "source": []
  }
 ],
 "metadata": {
  "kernelspec": {
   "display_name": "Python 3",
   "language": "python",
   "name": "python3"
  },
  "language_info": {
   "codemirror_mode": {
    "name": "ipython",
    "version": 3
   },
   "file_extension": ".py",
   "mimetype": "text/x-python",
   "name": "python",
   "nbconvert_exporter": "python",
   "pygments_lexer": "ipython3",
   "version": "3.6.3"
  }
 },
 "nbformat": 4,
 "nbformat_minor": 2
}

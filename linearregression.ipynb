{
 "cells": [
  {
   "cell_type": "code",
   "execution_count": 7,
   "metadata": {},
   "outputs": [
    {
     "name": "stdout",
     "output_type": "stream",
     "text": [
      "predicted value is :['1']\n",
      "actual value is :['3']\n",
      "56.3106796117\n"
     ]
    },
    {
     "name": "stderr",
     "output_type": "stream",
     "text": [
      "C:\\Users\\Manish\\Anaconda3\\lib\\site-packages\\sklearn\\utils\\validation.py:578: DataConversionWarning: A column-vector y was passed when a 1d array was expected. Please change the shape of y to (n_samples, ), for example using ravel().\n",
      "  y = column_or_1d(y, warn=True)\n"
     ]
    }
   ],
   "source": [
    "import numpy as np\n",
    "from numpy import genfromtxt\n",
    "from sklearn import linear_model\n",
    "\n",
    "file = genfromtxt(\"heart.csv\", delimiter = \",\", dtype=\"str\")\n",
    "\n",
    "  \n",
    "trainingset = file[:200]\n",
    "trainingx = trainingset[:,[0,1,2,3,4,5,6,7,8,9,10,11,12]]\n",
    "trainingx = trainingx.astype(float)\n",
    "trainingy = trainingset[:,[13]]\n",
    "\n",
    "testingset = file[200:]\n",
    "testingx = testingset[:,[0,1,2,3,4,5,6,7,8,9,10,11,12]]\n",
    "testingx = testingx.astype(float)\n",
    "testingy = testingset[:,[13]]\n",
    "\n",
    "lr = linear_model.LogisticRegression()\n",
    "lr.fit(trainingx,trainingy)\n",
    "print(\"predicted value is :\" + str(lr.predict([testingx[5]])))\n",
    "print(\"actual value is :\"  + str(testingy[5]))        \n",
    "    \n",
    "    \n",
    "print(lr.score(testingx,testingy)*100)\n"
   ]
  },
  {
   "cell_type": "code",
   "execution_count": null,
   "metadata": {
    "collapsed": true
   },
   "outputs": [],
   "source": []
  }
 ],
 "metadata": {
  "kernelspec": {
   "display_name": "Python 3",
   "language": "python",
   "name": "python3"
  },
  "language_info": {
   "codemirror_mode": {
    "name": "ipython",
    "version": 3
   },
   "file_extension": ".py",
   "mimetype": "text/x-python",
   "name": "python",
   "nbconvert_exporter": "python",
   "pygments_lexer": "ipython3",
   "version": "3.6.3"
  }
 },
 "nbformat": 4,
 "nbformat_minor": 2
}

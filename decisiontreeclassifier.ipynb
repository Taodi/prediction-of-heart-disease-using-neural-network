{
 "cells": [
  {
   "cell_type": "code",
   "execution_count": 3,
   "metadata": {},
   "outputs": [
    {
     "name": "stdout",
     "output_type": "stream",
     "text": [
      "predicted value is :['0']\n",
      "actual value is :['0']\n",
      "50.9433962264\n"
     ]
    }
   ],
   "source": [
    "import numpy as np\n",
    "from numpy import genfromtxt\n",
    "from sklearn import linear_model\n",
    "from sklearn.tree import DecisionTreeClassifier  \n",
    "\n",
    "\n",
    "file = genfromtxt(\"heart.csv\", delimiter = \",\", dtype=\"str\")\n",
    "\n",
    "  \n",
    "trainingset = file[:250]\n",
    "trainingx = trainingset[:,[0,1,2,3,4,5,6,7,8,9,10,11,12]]\n",
    "trainingx = trainingx.astype(float)\n",
    "trainingy = trainingset[:,[13]]\n",
    "\n",
    "testingset = file[250:]\n",
    "testingx = testingset[:,[0,1,2,3,4,5,6,7,8,9,10,11,12]]\n",
    "testingx = testingx.astype(float)\n",
    "testingy = testingset[:,[13]]\n",
    "\n",
    "clf=DecisionTreeClassifier()\n",
    "clf.fit(trainingx,trainingy)\n",
    "print(\"predicted value is :\" + str(clf.predict([testingx[5]])))\n",
    "print(\"actual value is :\"  + str(testingy[5]))        \n",
    "    \n",
    "    \n",
    "print(clf.score(testingx,testingy)*100)"
   ]
  },
  {
   "cell_type": "code",
   "execution_count": null,
   "metadata": {
    "collapsed": true
   },
   "outputs": [],
   "source": []
  }
 ],
 "metadata": {
  "kernelspec": {
   "display_name": "Python 3",
   "language": "python",
   "name": "python3"
  },
  "language_info": {
   "codemirror_mode": {
    "name": "ipython",
    "version": 3
   },
   "file_extension": ".py",
   "mimetype": "text/x-python",
   "name": "python",
   "nbconvert_exporter": "python",
   "pygments_lexer": "ipython3",
   "version": "3.6.3"
  }
 },
 "nbformat": 4,
 "nbformat_minor": 2
}
